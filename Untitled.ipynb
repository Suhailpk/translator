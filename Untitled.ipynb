{
 "cells": [
  {
   "cell_type": "code",
   "execution_count": null,
   "id": "ef00843f",
   "metadata": {},
   "outputs": [],
   "source": [
    "!pip install ibm-watson"
   ]
  },
  {
   "cell_type": "markdown",
   "id": "e60fe13f",
   "metadata": {},
   "source": [
    "## Translator workflow"
   ]
  },
  {
   "cell_type": "markdown",
   "id": "35beee3e",
   "metadata": {},
   "source": [
    "There are few steps in order to translate the words\n",
    "\n",
    "1 - From our local host we request the url (recieve from ibm cloud services)to the cloud\n",
    "\n",
    "2 - Then cloud service authenticate using key\n",
    "\n",
    "3 - after succesfull authentication we can translate various launguage"
   ]
  },
  {
   "cell_type": "code",
   "execution_count": 2,
   "id": "ff2a50c8",
   "metadata": {},
   "outputs": [],
   "source": [
    "API_key = 'I6eCsG3fVH6k-L_4MYAbvgD_eoXk1U480UC8GezkUUcc'\n",
    "url = 'https://api.eu-gb.language-translator.watson.cloud.ibm.com/instances/209d939b-59cb-4001-a707-013244cee735'"
   ]
  },
  {
   "cell_type": "code",
   "execution_count": 3,
   "id": "0fa7ed92",
   "metadata": {},
   "outputs": [],
   "source": [
    "from ibm_watson import LanguageTranslatorV3\n",
    "\n",
    "from ibm_cloud_sdk_core.authenticators import IAMAuthenticator"
   ]
  },
  {
   "cell_type": "code",
   "execution_count": 6,
   "id": "fdd94b2f",
   "metadata": {},
   "outputs": [],
   "source": [
    "authenticator = IAMAuthenticator(apikey=API_key)\n",
    "\n",
    "translator = LanguageTranslatorV3(version= '2018-05-01',\n",
    "                                 authenticator=authenticator)\n",
    "\n",
    "translator.set_service_url(url)"
   ]
  },
  {
   "cell_type": "code",
   "execution_count": 7,
   "id": "6ffc02b8",
   "metadata": {},
   "outputs": [],
   "source": [
    "trans = translator.translate('Hello world',model_id='en-ml')"
   ]
  },
  {
   "cell_type": "code",
   "execution_count": 8,
   "id": "80f317a4",
   "metadata": {},
   "outputs": [
    {
     "data": {
      "text/plain": [
       "{'translations': [{'translation': 'ഹലോ ലോകം'}],\n",
       " 'word_count': 3,\n",
       " 'character_count': 11}"
      ]
     },
     "execution_count": 8,
     "metadata": {},
     "output_type": "execute_result"
    }
   ],
   "source": [
    "trans.get_result()"
   ]
  },
  {
   "cell_type": "code",
   "execution_count": null,
   "id": "44a5fbd4",
   "metadata": {},
   "outputs": [],
   "source": []
  }
 ],
 "metadata": {
  "kernelspec": {
   "display_name": "Python 3 (ipykernel)",
   "language": "python",
   "name": "python3"
  },
  "language_info": {
   "codemirror_mode": {
    "name": "ipython",
    "version": 3
   },
   "file_extension": ".py",
   "mimetype": "text/x-python",
   "name": "python",
   "nbconvert_exporter": "python",
   "pygments_lexer": "ipython3",
   "version": "3.9.12"
  }
 },
 "nbformat": 4,
 "nbformat_minor": 5
}
